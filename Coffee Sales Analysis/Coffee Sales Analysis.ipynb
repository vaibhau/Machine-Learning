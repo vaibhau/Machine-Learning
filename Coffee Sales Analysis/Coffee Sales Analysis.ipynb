{
 "cells": [
  {
   "cell_type": "code",
   "execution_count": 1,
   "id": "73820492",
   "metadata": {},
   "outputs": [],
   "source": [
    "import pyspark"
   ]
  },
  {
   "cell_type": "code",
   "execution_count": 2,
   "id": "ebc653c7",
   "metadata": {},
   "outputs": [],
   "source": [
    "from pyspark.sql import SparkSession\n",
    "from pyspark.sql.functions import month\n",
    "from pyspark.sql.functions import col, round"
   ]
  },
  {
   "cell_type": "code",
   "execution_count": 3,
   "id": "77871ffe",
   "metadata": {},
   "outputs": [],
   "source": [
    "spark = SparkSession.builder.appName('Coffee Sales').getOrCreate()"
   ]
  },
  {
   "cell_type": "code",
   "execution_count": 4,
   "id": "083c2a82",
   "metadata": {},
   "outputs": [],
   "source": [
    "data = spark.read.csv('data.csv',inferSchema=True,header=True,encoding='utf8')"
   ]
  },
  {
   "cell_type": "code",
   "execution_count": 5,
   "id": "b510ff84",
   "metadata": {},
   "outputs": [
    {
     "name": "stdout",
     "output_type": "stream",
     "text": [
      "+---------+----+--------------------------------------+----------+----------------+------+------------+-------+---------+------------+------------+-----------------+------+-----+-------------+-----------+-------------+-------------+-------------+--------------+-------+\n",
      "|Area Code|Cogs|DifferenceBetweenActualandTargetProfit|      Date|Inventory Margin|Margin| Market_size| Market|Marketing|Product_line|Product_type|          Product|Profit|Sales|        State|Target_cogs|Target_margin|Target_profit|Target_sales |Total_expenses|   Type|\n",
      "+---------+----+--------------------------------------+----------+----------------+------+------------+-------+---------+------------+------------+-----------------+------+-----+-------------+-----------+-------------+-------------+-------------+--------------+-------+\n",
      "|      303|  51|                                   -35| 10/1/2012|             503|    71|Major Market|Central|       46|      Leaves|  Herbal Tea|            Lemon|    -5|  122|     Colorado|         30|           60|           30|           90|            76|  Decaf|\n",
      "|      970|  52|                                   -24| 10/1/2012|             405|    71|Major Market|Central|       17|      Leaves|  Herbal Tea|             Mint|    26|  123|     Colorado|         30|           60|           50|           90|            45|  Decaf|\n",
      "|      409|  43|                                   -22| 10/2/2012|             419|    64|Major Market|  South|       13|      Leaves|  Herbal Tea|            Lemon|    28|  107|        Texas|         30|           60|           50|           90|            36|  Decaf|\n",
      "|      850|  38|                                   -15| 10/3/2012|             871|    56|Major Market|   East|       10|      Leaves|         Tea|       Darjeeling|    35|   94|      Florida|         40|           60|           50|          100|            21|Regular|\n",
      "|      562|  72|                                     6| 10/4/2012|             650|   110|Major Market|   West|       23|      Leaves|         Tea|        Green Tea|    56|  182|   California|         20|           60|           50|           80|            54|Regular|\n",
      "|      712|   0|                                   -29| 10/5/2012|             430|    43|Small Market|Central|        0|       Beans|    Espresso|   Decaf Espresso|    31|   43|         Iowa|          0|           60|           60|           60|            12|  Decaf|\n",
      "|      860|  47|                                   -29| 10/6/2012|             375|    64|Small Market|   East|       15|       Beans|    Espresso|   Decaf Espresso|    21|  111|  Connecticut|         30|           60|           50|           90|            43|  Decaf|\n",
      "|      918|  27|                                   -39| 10/7/2012|             859|    39|Small Market|  South|        7|       Beans|      Coffee|Decaf Irish Cream|    21|   66|     Oklahoma|         30|           60|           60|           90|            18|  Decaf|\n",
      "|      775|  31|                                   -43| 10/8/2012|            1000|    37|Small Market|   West|        9|       Beans|      Coffee|Decaf Irish Cream|     7|   68|       Nevada|         30|           60|           50|           90|            30|  Decaf|\n",
      "|      435|  40|                                   -23| 10/9/2012|             881|    59|Small Market|   West|       11|       Beans|    Espresso|   Decaf Espresso|    37|   99|         Utah|         20|           60|           60|           80|            22|  Decaf|\n",
      "|      603|  49|                                   -27|10/10/2012|             310|    71|Small Market|   East|       15|       Beans|      Coffee|         Amaretto|    33|  120|New Hampshire|         30|           60|           60|           90|            38|Regular|\n",
      "|      603|  45|                                   -26|10/11/2012|             447|    69|Small Market|   East|       14|       Beans|      Coffee|        Colombian|    24|  114|New Hampshire|         30|           60|           50|           90|            45|Regular|\n",
      "|      603|  45|                                   -37|10/12/2012|             320|    64|Small Market|   East|       41|       Beans|    Espresso|      Caffe Mocha|    -7|  109|New Hampshire|         30|           60|           30|           90|            71|Regular|\n",
      "|      318|  60|                                    -9|10/13/2012|            -762|    84|Small Market|  South|       54|       Beans|    Espresso|      Caffe Latte|     1|  144|    Louisiana|         30|           60|           10|           90|            83|Regular|\n",
      "|      775|  34|                                   -32|10/14/2012|             240|    43|Small Market|   West|       12|       Beans|      Coffee|        Colombian|    -2|   77|       Nevada|         40|           60|           30|          100|            45|Regular|\n",
      "|      503|  54|                                   -28|10/15/2012|             404|    66|Small Market|   West|       20|       Beans|    Espresso|      Caffe Latte|    12|  120|       Oregon|         40|           60|           40|          100|            54|Regular|\n",
      "|      573|  45|                                   -36|10/16/2012|             320|    64|Small Market|Central|       41|      Leaves|  Herbal Tea|        Chamomile|    -6|  109|     Missouri|         20|           60|           30|           80|            70|  Decaf|\n",
      "|      262|  48|                                   -15|10/17/2012|             851|    70|Small Market|Central|       13|      Leaves|  Herbal Tea|            Lemon|    45|  118|    Wisconsin|         30|           60|           60|           90|            25|  Decaf|\n",
      "|      801|  49|                                   -27|10/18/2012|             310|    71|Small Market|   West|       15|      Leaves|  Herbal Tea|        Chamomile|    33|  120|         Utah|         30|           60|           60|           90|            38|  Decaf|\n",
      "|      425|  48|                                   -13|10/19/2012|             829|    71|Small Market|   West|       13|      Leaves|  Herbal Tea|            Lemon|    47|  119|   Washington|         30|           60|           60|           90|            24|  Decaf|\n",
      "+---------+----+--------------------------------------+----------+----------------+------+------------+-------+---------+------------+------------+-----------------+------+-----+-------------+-----------+-------------+-------------+-------------+--------------+-------+\n",
      "only showing top 20 rows\n",
      "\n"
     ]
    }
   ],
   "source": [
    "data.show()"
   ]
  },
  {
   "cell_type": "code",
   "execution_count": 6,
   "id": "adf5d644",
   "metadata": {},
   "outputs": [
    {
     "name": "stdout",
     "output_type": "stream",
     "text": [
      "root\n",
      " |-- Area Code: integer (nullable = true)\n",
      " |-- Cogs: integer (nullable = true)\n",
      " |-- DifferenceBetweenActualandTargetProfit: integer (nullable = true)\n",
      " |-- Date: string (nullable = true)\n",
      " |-- Inventory Margin: integer (nullable = true)\n",
      " |-- Margin: integer (nullable = true)\n",
      " |-- Market_size: string (nullable = true)\n",
      " |-- Market: string (nullable = true)\n",
      " |-- Marketing: integer (nullable = true)\n",
      " |-- Product_line: string (nullable = true)\n",
      " |-- Product_type: string (nullable = true)\n",
      " |-- Product: string (nullable = true)\n",
      " |-- Profit: integer (nullable = true)\n",
      " |-- Sales: integer (nullable = true)\n",
      " |-- State: string (nullable = true)\n",
      " |-- Target_cogs: integer (nullable = true)\n",
      " |-- Target_margin: integer (nullable = true)\n",
      " |-- Target_profit: integer (nullable = true)\n",
      " |-- Target_sales : integer (nullable = true)\n",
      " |-- Total_expenses: integer (nullable = true)\n",
      " |-- Type: string (nullable = true)\n",
      "\n"
     ]
    }
   ],
   "source": [
    "data.printSchema()"
   ]
  },
  {
   "cell_type": "code",
   "execution_count": 11,
   "id": "d6e190e1",
   "metadata": {},
   "outputs": [],
   "source": [
    "market = data[data['Area Code'],data['Market'],data['Market_Size'],data['State']]"
   ]
  },
  {
   "cell_type": "code",
   "execution_count": 12,
   "id": "ba3b3efc",
   "metadata": {},
   "outputs": [
    {
     "name": "stdout",
     "output_type": "stream",
     "text": [
      "+---------+-------+------------+-------------+\n",
      "|Area Code| Market| Market_Size|        State|\n",
      "+---------+-------+------------+-------------+\n",
      "|      303|Central|Major Market|     Colorado|\n",
      "|      970|Central|Major Market|     Colorado|\n",
      "|      409|  South|Major Market|        Texas|\n",
      "|      850|   East|Major Market|      Florida|\n",
      "|      562|   West|Major Market|   California|\n",
      "|      712|Central|Small Market|         Iowa|\n",
      "|      860|   East|Small Market|  Connecticut|\n",
      "|      918|  South|Small Market|     Oklahoma|\n",
      "|      775|   West|Small Market|       Nevada|\n",
      "|      435|   West|Small Market|         Utah|\n",
      "|      603|   East|Small Market|New Hampshire|\n",
      "|      603|   East|Small Market|New Hampshire|\n",
      "|      603|   East|Small Market|New Hampshire|\n",
      "|      318|  South|Small Market|    Louisiana|\n",
      "|      775|   West|Small Market|       Nevada|\n",
      "|      503|   West|Small Market|       Oregon|\n",
      "|      573|Central|Small Market|     Missouri|\n",
      "|      262|Central|Small Market|    Wisconsin|\n",
      "|      801|   West|Small Market|         Utah|\n",
      "|      425|   West|Small Market|   Washington|\n",
      "+---------+-------+------------+-------------+\n",
      "only showing top 20 rows\n",
      "\n"
     ]
    }
   ],
   "source": [
    "market.show()"
   ]
  },
  {
   "cell_type": "code",
   "execution_count": 13,
   "id": "aee953cc",
   "metadata": {},
   "outputs": [],
   "source": [
    "product = data['Area Code','Product_type','Product','Type']"
   ]
  },
  {
   "cell_type": "code",
   "execution_count": 14,
   "id": "bb02da27",
   "metadata": {},
   "outputs": [
    {
     "name": "stdout",
     "output_type": "stream",
     "text": [
      "+---------+------------+-----------------+-------+\n",
      "|Area Code|Product_type|          Product|   Type|\n",
      "+---------+------------+-----------------+-------+\n",
      "|      303|  Herbal Tea|            Lemon|  Decaf|\n",
      "|      970|  Herbal Tea|             Mint|  Decaf|\n",
      "|      409|  Herbal Tea|            Lemon|  Decaf|\n",
      "|      850|         Tea|       Darjeeling|Regular|\n",
      "|      562|         Tea|        Green Tea|Regular|\n",
      "|      712|    Espresso|   Decaf Espresso|  Decaf|\n",
      "|      860|    Espresso|   Decaf Espresso|  Decaf|\n",
      "|      918|      Coffee|Decaf Irish Cream|  Decaf|\n",
      "|      775|      Coffee|Decaf Irish Cream|  Decaf|\n",
      "|      435|    Espresso|   Decaf Espresso|  Decaf|\n",
      "|      603|      Coffee|         Amaretto|Regular|\n",
      "|      603|      Coffee|        Colombian|Regular|\n",
      "|      603|    Espresso|      Caffe Mocha|Regular|\n",
      "|      318|    Espresso|      Caffe Latte|Regular|\n",
      "|      775|      Coffee|        Colombian|Regular|\n",
      "|      503|    Espresso|      Caffe Latte|Regular|\n",
      "|      573|  Herbal Tea|        Chamomile|  Decaf|\n",
      "|      262|  Herbal Tea|            Lemon|  Decaf|\n",
      "|      801|  Herbal Tea|        Chamomile|  Decaf|\n",
      "|      425|  Herbal Tea|            Lemon|  Decaf|\n",
      "|      860|         Tea|       Darjeeling|Regular|\n",
      "|      971|         Tea|        Earl Grey|Regular|\n",
      "|      971|         Tea|        Green Tea|Regular|\n",
      "|      915|      Coffee|Decaf Irish Cream|  Decaf|\n",
      "|      210|    Espresso|   Decaf Espresso|  Decaf|\n",
      "|      970|      Coffee|        Colombian|Regular|\n",
      "|      774|    Espresso|      Caffe Mocha|Regular|\n",
      "|      954|  Herbal Tea|             Mint|  Decaf|\n",
      "|      936|  Herbal Tea|            Lemon|  Decaf|\n",
      "|      719|         Tea|       Darjeeling|Regular|\n",
      "|      847|         Tea|       Darjeeling|Regular|\n",
      "|      719|         Tea|        Earl Grey|Regular|\n",
      "|      339|         Tea|       Darjeeling|Regular|\n",
      "|      314|    Espresso|   Decaf Espresso|  Decaf|\n",
      "|      504|      Coffee|Decaf Irish Cream|  Decaf|\n",
      "|      580|      Coffee|Decaf Irish Cream|  Decaf|\n",
      "|      225|    Espresso|   Decaf Espresso|  Decaf|\n",
      "|      262|      Coffee|         Amaretto|Regular|\n",
      "|      603|      Coffee|         Amaretto|Regular|\n",
      "|      603|      Coffee|        Colombian|Regular|\n",
      "|      603|    Espresso|      Caffe Mocha|Regular|\n",
      "|      225|    Espresso|      Caffe Mocha|Regular|\n",
      "|      425|    Espresso|      Caffe Mocha|Regular|\n",
      "|      918|  Herbal Tea|        Chamomile|  Decaf|\n",
      "|      801|  Herbal Tea|        Chamomile|  Decaf|\n",
      "|      435|  Herbal Tea|            Lemon|  Decaf|\n",
      "|      509|  Herbal Tea|            Lemon|  Decaf|\n",
      "|      203|         Tea|        Green Tea|Regular|\n",
      "|      206|         Tea|        Green Tea|Regular|\n",
      "|      682|      Coffee|Decaf Irish Cream|  Decaf|\n",
      "|      214|    Espresso|   Decaf Espresso|  Decaf|\n",
      "|      970|  Herbal Tea|            Lemon|  Decaf|\n",
      "|      303|  Herbal Tea|             Mint|  Decaf|\n",
      "|      954|  Herbal Tea|            Lemon|  Decaf|\n",
      "|      561|  Herbal Tea|             Mint|  Decaf|\n",
      "|      469|  Herbal Tea|        Chamomile|  Decaf|\n",
      "|      214|  Herbal Tea|            Lemon|  Decaf|\n",
      "|      619|         Tea|        Earl Grey|Regular|\n",
      "|      314|    Espresso|   Decaf Espresso|  Decaf|\n",
      "|      225|      Coffee|Decaf Irish Cream|  Decaf|\n",
      "|      580|      Coffee|Decaf Irish Cream|  Decaf|\n",
      "|      603|      Coffee|        Colombian|Regular|\n",
      "|      985|    Espresso|      Caffe Latte|Regular|\n",
      "|      505|    Espresso|      Caffe Mocha|Regular|\n",
      "|      775|      Coffee|        Colombian|Regular|\n",
      "|      417|  Herbal Tea|        Chamomile|  Decaf|\n",
      "|      920|  Herbal Tea|        Chamomile|  Decaf|\n",
      "|      573|  Herbal Tea|            Lemon|  Decaf|\n",
      "|      475|  Herbal Tea|            Lemon|  Decaf|\n",
      "|      475|  Herbal Tea|             Mint|  Decaf|\n",
      "|      435|  Herbal Tea|             Mint|  Decaf|\n",
      "|      920|         Tea|        Earl Grey|Regular|\n",
      "|      720|  Herbal Tea|            Lemon|  Decaf|\n",
      "|      970|  Herbal Tea|             Mint|  Decaf|\n",
      "|      430|  Herbal Tea|            Lemon|  Decaf|\n",
      "|      561|         Tea|       Darjeeling|Regular|\n",
      "|      510|         Tea|        Green Tea|Regular|\n",
      "|      563|    Espresso|   Decaf Espresso|  Decaf|\n",
      "|      203|    Espresso|   Decaf Espresso|  Decaf|\n",
      "|      405|      Coffee|Decaf Irish Cream|  Decaf|\n",
      "|      775|      Coffee|Decaf Irish Cream|  Decaf|\n",
      "|      435|    Espresso|   Decaf Espresso|  Decaf|\n",
      "|      603|      Coffee|         Amaretto|Regular|\n",
      "|      603|      Coffee|        Colombian|Regular|\n",
      "|      603|    Espresso|      Caffe Mocha|Regular|\n",
      "|      504|    Espresso|      Caffe Latte|Regular|\n",
      "|      702|      Coffee|        Colombian|Regular|\n",
      "|      971|    Espresso|      Caffe Latte|Regular|\n",
      "|      573|  Herbal Tea|        Chamomile|  Decaf|\n",
      "|      262|  Herbal Tea|            Lemon|  Decaf|\n",
      "|      801|  Herbal Tea|        Chamomile|  Decaf|\n",
      "|      509|  Herbal Tea|            Lemon|  Decaf|\n",
      "|      475|         Tea|       Darjeeling|Regular|\n",
      "|      503|         Tea|        Earl Grey|Regular|\n",
      "|      541|         Tea|        Green Tea|Regular|\n",
      "|      936|      Coffee|Decaf Irish Cream|  Decaf|\n",
      "|      254|    Espresso|   Decaf Espresso|  Decaf|\n",
      "|      719|      Coffee|        Colombian|Regular|\n",
      "|      339|    Espresso|      Caffe Mocha|Regular|\n",
      "|      561|  Herbal Tea|             Mint|  Decaf|\n",
      "+---------+------------+-----------------+-------+\n",
      "only showing top 100 rows\n",
      "\n"
     ]
    }
   ],
   "source": [
    "product.show(100)"
   ]
  },
  {
   "cell_type": "code",
   "execution_count": 15,
   "id": "d2562e9b",
   "metadata": {},
   "outputs": [],
   "source": [
    "sales_data = data['Date','Area Code','Profit','Margin','Sales','Cogs','Total_expenses','Marketing','Inventory Margin']"
   ]
  },
  {
   "cell_type": "code",
   "execution_count": 16,
   "id": "8337294a",
   "metadata": {},
   "outputs": [
    {
     "name": "stdout",
     "output_type": "stream",
     "text": [
      "+----------+---------+------+------+-----+----+--------------+---------+----------------+\n",
      "|      Date|Area Code|Profit|Margin|Sales|Cogs|Total_expenses|Marketing|Inventory Margin|\n",
      "+----------+---------+------+------+-----+----+--------------+---------+----------------+\n",
      "| 10/1/2012|      303|    -5|    71|  122|  51|            76|       46|             503|\n",
      "| 10/1/2012|      970|    26|    71|  123|  52|            45|       17|             405|\n",
      "| 10/2/2012|      409|    28|    64|  107|  43|            36|       13|             419|\n",
      "| 10/3/2012|      850|    35|    56|   94|  38|            21|       10|             871|\n",
      "| 10/4/2012|      562|    56|   110|  182|  72|            54|       23|             650|\n",
      "| 10/5/2012|      712|    31|    43|   43|   0|            12|        0|             430|\n",
      "| 10/6/2012|      860|    21|    64|  111|  47|            43|       15|             375|\n",
      "| 10/7/2012|      918|    21|    39|   66|  27|            18|        7|             859|\n",
      "| 10/8/2012|      775|     7|    37|   68|  31|            30|        9|            1000|\n",
      "| 10/9/2012|      435|    37|    59|   99|  40|            22|       11|             881|\n",
      "|10/10/2012|      603|    33|    71|  120|  49|            38|       15|             310|\n",
      "|10/11/2012|      603|    24|    69|  114|  45|            45|       14|             447|\n",
      "|10/12/2012|      603|    -7|    64|  109|  45|            71|       41|             320|\n",
      "|10/13/2012|      318|     1|    84|  144|  60|            83|       54|            -762|\n",
      "|10/14/2012|      775|    -2|    43|   77|  34|            45|       12|             240|\n",
      "|10/15/2012|      503|    12|    66|  120|  54|            54|       20|             404|\n",
      "|10/16/2012|      573|    -6|    64|  109|  45|            70|       41|             320|\n",
      "|10/17/2012|      262|    45|    70|  118|  48|            25|       13|             851|\n",
      "|10/18/2012|      801|    33|    71|  120|  49|            38|       15|             310|\n",
      "|10/19/2012|      425|    47|    71|  119|  48|            24|       13|             829|\n",
      "+----------+---------+------+------+-----+----+--------------+---------+----------------+\n",
      "only showing top 20 rows\n",
      "\n"
     ]
    }
   ],
   "source": [
    "sales_data.show()"
   ]
  },
  {
   "cell_type": "code",
   "execution_count": 19,
   "id": "0322f8b9",
   "metadata": {},
   "outputs": [
    {
     "data": {
      "text/plain": [
       "DataFrame[summary: string, Date: string, Area Code: string, Profit: string, Margin: string, Sales: string, Cogs: string, Total_expenses: string, Marketing: string, Inventory Margin: string]"
      ]
     },
     "execution_count": 19,
     "metadata": {},
     "output_type": "execute_result"
    }
   ],
   "source": [
    "sales_data.describe()"
   ]
  },
  {
   "cell_type": "code",
   "execution_count": 21,
   "id": "911c3e36",
   "metadata": {},
   "outputs": [],
   "source": [
    "from pyspark.sql.types import TimestampType\n",
    "from pyspark.sql.functions import to_timestamp\n",
    "from pyspark.sql.functions import date_format\n",
    "from pyspark.sql.functions import year"
   ]
  },
  {
   "cell_type": "code",
   "execution_count": 22,
   "id": "f595b5d6",
   "metadata": {},
   "outputs": [],
   "source": [
    "calender = data.select('Date')"
   ]
  },
  {
   "cell_type": "code",
   "execution_count": 23,
   "id": "46978dc6",
   "metadata": {},
   "outputs": [],
   "source": [
    "cal = calender.withColumn('Date', to_timestamp(calender['Date'],'dd/MM/yy HH:mm:ss'))"
   ]
  },
  {
   "cell_type": "code",
   "execution_count": 24,
   "id": "4997a692",
   "metadata": {},
   "outputs": [],
   "source": [
    "calender = cal"
   ]
  },
  {
   "cell_type": "code",
   "execution_count": 26,
   "id": "67f3d55d",
   "metadata": {},
   "outputs": [],
   "source": [
    "calender = calender.withColumn('Day',date_format(calender['Date'],'E')).withColumn('Month', date_format(calender['Date'], 'MMMM'))"
   ]
  },
  {
   "cell_type": "code",
   "execution_count": 27,
   "id": "4e0d5cf8",
   "metadata": {},
   "outputs": [],
   "source": [
    "calender = calender.withColumn('Year',year(cal['Date']))"
   ]
  },
  {
   "cell_type": "code",
   "execution_count": 28,
   "id": "db22132d",
   "metadata": {},
   "outputs": [
    {
     "name": "stdout",
     "output_type": "stream",
     "text": [
      "+----+----+-----+----+\n",
      "|Date| Day|Month|Year|\n",
      "+----+----+-----+----+\n",
      "|null|null| null|null|\n",
      "|null|null| null|null|\n",
      "|null|null| null|null|\n",
      "|null|null| null|null|\n",
      "|null|null| null|null|\n",
      "|null|null| null|null|\n",
      "|null|null| null|null|\n",
      "|null|null| null|null|\n",
      "|null|null| null|null|\n",
      "|null|null| null|null|\n",
      "|null|null| null|null|\n",
      "|null|null| null|null|\n",
      "|null|null| null|null|\n",
      "|null|null| null|null|\n",
      "|null|null| null|null|\n",
      "|null|null| null|null|\n",
      "|null|null| null|null|\n",
      "|null|null| null|null|\n",
      "|null|null| null|null|\n",
      "|null|null| null|null|\n",
      "+----+----+-----+----+\n",
      "only showing top 20 rows\n",
      "\n"
     ]
    }
   ],
   "source": [
    "calender.show()"
   ]
  },
  {
   "cell_type": "code",
   "execution_count": 30,
   "id": "640a598a",
   "metadata": {},
   "outputs": [
    {
     "name": "stdout",
     "output_type": "stream",
     "text": [
      "+---------+------------+-----------+-------+\n",
      "|Area Code|Product_type|    Product|   Type|\n",
      "+---------+------------+-----------+-------+\n",
      "|      603|      Coffee|   Amaretto|Regular|\n",
      "|      262|      Coffee|   Amaretto|Regular|\n",
      "|      603|      Coffee|   Amaretto|Regular|\n",
      "|      603|      Coffee|   Amaretto|Regular|\n",
      "|      262|      Coffee|   Amaretto|Regular|\n",
      "|      603|      Coffee|   Amaretto|Regular|\n",
      "|      440|      Coffee|   Amaretto|Regular|\n",
      "|      513|      Coffee|   Amaretto|Regular|\n",
      "|      603|      Coffee|   Amaretto|Regular|\n",
      "|      614|      Coffee|   Amaretto|Regular|\n",
      "|      234|      Coffee|   Amaretto|Regular|\n",
      "|      603|      Coffee|   Amaretto|Regular|\n",
      "|      563|      Coffee|   Amaretto|Regular|\n",
      "|      641|      Coffee|   Amaretto|Regular|\n",
      "|      515|      Coffee|   Amaretto|Regular|\n",
      "|      563|      Coffee|   Amaretto|Regular|\n",
      "|      715|      Coffee|   Amaretto|Regular|\n",
      "|      330|      Coffee|   Amaretto|Regular|\n",
      "|      541|      Coffee|   Amaretto|Regular|\n",
      "|      715|      Coffee|   Amaretto|Regular|\n",
      "|      503|      Coffee|   Amaretto|Regular|\n",
      "|      414|      Coffee|   Amaretto|Regular|\n",
      "|      234|      Coffee|   Amaretto|Regular|\n",
      "|      971|      Coffee|   Amaretto|Regular|\n",
      "|      920|      Coffee|   Amaretto|Regular|\n",
      "|      541|      Coffee|   Amaretto|Regular|\n",
      "|      970|      Coffee|   Amaretto|Regular|\n",
      "|      970|      Coffee|   Amaretto|Regular|\n",
      "|      563|      Coffee|   Amaretto|Regular|\n",
      "|      719|      Coffee|   Amaretto|Regular|\n",
      "|      719|      Coffee|   Amaretto|Regular|\n",
      "|      719|      Coffee|   Amaretto|Regular|\n",
      "|      712|      Coffee|   Amaretto|Regular|\n",
      "|      303|      Coffee|   Amaretto|Regular|\n",
      "|      818|      Coffee|   Amaretto|Regular|\n",
      "|      971|      Coffee|   Amaretto|Regular|\n",
      "|      435|      Coffee|   Amaretto|Regular|\n",
      "|      619|      Coffee|   Amaretto|Regular|\n",
      "|      801|      Coffee|   Amaretto|Regular|\n",
      "|      951|      Coffee|   Amaretto|Regular|\n",
      "|      435|      Coffee|   Amaretto|Regular|\n",
      "|      909|      Coffee|   Amaretto|Regular|\n",
      "|      503|      Coffee|   Amaretto|Regular|\n",
      "|      435|      Coffee|   Amaretto|Regular|\n",
      "|      916|      Coffee|   Amaretto|Regular|\n",
      "|      435|      Coffee|   Amaretto|Regular|\n",
      "|      209|      Coffee|   Amaretto|Regular|\n",
      "|      435|      Coffee|   Amaretto|Regular|\n",
      "|      318|    Espresso|Caffe Latte|Regular|\n",
      "|      503|    Espresso|Caffe Latte|Regular|\n",
      "|      985|    Espresso|Caffe Latte|Regular|\n",
      "|      504|    Espresso|Caffe Latte|Regular|\n",
      "|      971|    Espresso|Caffe Latte|Regular|\n",
      "|      225|    Espresso|Caffe Latte|Regular|\n",
      "|      971|    Espresso|Caffe Latte|Regular|\n",
      "|      971|    Espresso|Caffe Latte|Regular|\n",
      "|      801|    Espresso|Caffe Latte|Regular|\n",
      "|      775|    Espresso|Caffe Latte|Regular|\n",
      "|      435|    Espresso|Caffe Latte|Regular|\n",
      "|      702|    Espresso|Caffe Latte|Regular|\n",
      "|      435|    Espresso|Caffe Latte|Regular|\n",
      "|      435|    Espresso|Caffe Latte|Regular|\n",
      "|      775|    Espresso|Caffe Latte|Regular|\n",
      "|      435|    Espresso|Caffe Latte|Regular|\n",
      "|      775|    Espresso|Caffe Latte|Regular|\n",
      "|      435|    Espresso|Caffe Latte|Regular|\n",
      "|      832|    Espresso|Caffe Latte|Regular|\n",
      "|      504|    Espresso|Caffe Latte|Regular|\n",
      "|      541|    Espresso|Caffe Latte|Regular|\n",
      "|      512|    Espresso|Caffe Latte|Regular|\n",
      "|      682|    Espresso|Caffe Latte|Regular|\n",
      "|      318|    Espresso|Caffe Latte|Regular|\n",
      "|      503|    Espresso|Caffe Latte|Regular|\n",
      "|      361|    Espresso|Caffe Latte|Regular|\n",
      "|      702|    Espresso|Caffe Latte|Regular|\n",
      "|      505|    Espresso|Caffe Latte|Regular|\n",
      "|      253|    Espresso|Caffe Latte|Regular|\n",
      "|      253|    Espresso|Caffe Latte|Regular|\n",
      "|      702|    Espresso|Caffe Latte|Regular|\n",
      "|      505|    Espresso|Caffe Latte|Regular|\n",
      "|      425|    Espresso|Caffe Latte|Regular|\n",
      "|      206|    Espresso|Caffe Latte|Regular|\n",
      "|      405|    Espresso|Caffe Latte|Regular|\n",
      "|      405|    Espresso|Caffe Latte|Regular|\n",
      "|      505|    Espresso|Caffe Latte|Regular|\n",
      "|      817|    Espresso|Caffe Latte|Regular|\n",
      "|      918|    Espresso|Caffe Latte|Regular|\n",
      "|      505|    Espresso|Caffe Latte|Regular|\n",
      "|      918|    Espresso|Caffe Latte|Regular|\n",
      "|      505|    Espresso|Caffe Latte|Regular|\n",
      "|      806|    Espresso|Caffe Latte|Regular|\n",
      "|      405|    Espresso|Caffe Latte|Regular|\n",
      "|      505|    Espresso|Caffe Latte|Regular|\n",
      "|      918|    Espresso|Caffe Latte|Regular|\n",
      "|      562|    Espresso|Caffe Latte|Regular|\n",
      "|      206|    Espresso|Caffe Latte|Regular|\n",
      "|      559|    Espresso|Caffe Latte|Regular|\n",
      "|      916|    Espresso|Caffe Latte|Regular|\n",
      "|      714|    Espresso|Caffe Latte|Regular|\n",
      "|      206|    Espresso|Caffe Latte|Regular|\n",
      "|      951|    Espresso|Caffe Latte|Regular|\n",
      "|      949|    Espresso|Caffe Latte|Regular|\n",
      "|      603|    Espresso|Caffe Mocha|Regular|\n",
      "|      203|    Espresso|Caffe Mocha|Regular|\n",
      "|      505|    Espresso|Caffe Mocha|Regular|\n",
      "|      503|    Espresso|Caffe Mocha|Regular|\n",
      "|      339|    Espresso|Caffe Mocha|Regular|\n",
      "|      603|    Espresso|Caffe Mocha|Regular|\n",
      "|      203|    Espresso|Caffe Mocha|Regular|\n",
      "|      515|    Espresso|Caffe Mocha|Regular|\n",
      "|      505|    Espresso|Caffe Mocha|Regular|\n",
      "|      978|    Espresso|Caffe Mocha|Regular|\n",
      "|      515|    Espresso|Caffe Mocha|Regular|\n",
      "|      225|    Espresso|Caffe Mocha|Regular|\n",
      "|      505|    Espresso|Caffe Mocha|Regular|\n",
      "|      918|    Espresso|Caffe Mocha|Regular|\n",
      "|      505|    Espresso|Caffe Mocha|Regular|\n",
      "|      580|    Espresso|Caffe Mocha|Regular|\n",
      "|      774|    Espresso|Caffe Mocha|Regular|\n",
      "|      985|    Espresso|Caffe Mocha|Regular|\n",
      "|      971|    Espresso|Caffe Mocha|Regular|\n",
      "|      253|    Espresso|Caffe Mocha|Regular|\n",
      "|      774|    Espresso|Caffe Mocha|Regular|\n",
      "|      475|    Espresso|Caffe Mocha|Regular|\n",
      "|      603|    Espresso|Caffe Mocha|Regular|\n",
      "|      503|    Espresso|Caffe Mocha|Regular|\n",
      "|      774|    Espresso|Caffe Mocha|Regular|\n",
      "|      225|    Espresso|Caffe Mocha|Regular|\n",
      "|      541|    Espresso|Caffe Mocha|Regular|\n",
      "|      425|    Espresso|Caffe Mocha|Regular|\n",
      "|      920|    Espresso|Caffe Mocha|Regular|\n",
      "|      503|    Espresso|Caffe Mocha|Regular|\n",
      "|      641|    Espresso|Caffe Mocha|Regular|\n",
      "|      405|    Espresso|Caffe Mocha|Regular|\n",
      "|      603|    Espresso|Caffe Mocha|Regular|\n",
      "|      225|    Espresso|Caffe Mocha|Regular|\n",
      "|      425|    Espresso|Caffe Mocha|Regular|\n",
      "|      580|    Espresso|Caffe Mocha|Regular|\n",
      "|      580|    Espresso|Caffe Mocha|Regular|\n",
      "|      505|    Espresso|Caffe Mocha|Regular|\n",
      "|      580|    Espresso|Caffe Mocha|Regular|\n",
      "|      603|    Espresso|Caffe Mocha|Regular|\n",
      "|      515|    Espresso|Caffe Mocha|Regular|\n",
      "|      985|    Espresso|Caffe Mocha|Regular|\n",
      "|      509|    Espresso|Caffe Mocha|Regular|\n",
      "|      339|    Espresso|Caffe Mocha|Regular|\n",
      "|      475|    Espresso|Caffe Mocha|Regular|\n",
      "|      314|    Espresso|Caffe Mocha|Regular|\n",
      "|      603|    Espresso|Caffe Mocha|Regular|\n",
      "|      541|    Espresso|Caffe Mocha|Regular|\n",
      "|      318|    Espresso|Caffe Mocha|Regular|\n",
      "|      206|    Espresso|Caffe Mocha|Regular|\n",
      "|      509|    Espresso|Caffe Mocha|Regular|\n",
      "|      210|    Espresso|Caffe Mocha|Regular|\n",
      "|      409|    Espresso|Caffe Mocha|Regular|\n",
      "|      972|    Espresso|Caffe Mocha|Regular|\n",
      "|      817|    Espresso|Caffe Mocha|Regular|\n",
      "|      505|    Espresso|Caffe Mocha|Regular|\n",
      "|      915|    Espresso|Caffe Mocha|Regular|\n",
      "|      254|    Espresso|Caffe Mocha|Regular|\n",
      "|      203|    Espresso|Caffe Mocha|Regular|\n",
      "|      959|    Espresso|Caffe Mocha|Regular|\n",
      "|      239|    Espresso|Caffe Mocha|Regular|\n",
      "|      845|    Espresso|Caffe Mocha|Regular|\n",
      "|      754|    Espresso|Caffe Mocha|Regular|\n",
      "|      347|    Espresso|Caffe Mocha|Regular|\n",
      "|      305|    Espresso|Caffe Mocha|Regular|\n",
      "|      212|    Espresso|Caffe Mocha|Regular|\n",
      "|      727|    Espresso|Caffe Mocha|Regular|\n",
      "|      914|    Espresso|Caffe Mocha|Regular|\n",
      "|      813|    Espresso|Caffe Mocha|Regular|\n",
      "|      914|    Espresso|Caffe Mocha|Regular|\n",
      "|      305|    Espresso|Caffe Mocha|Regular|\n",
      "|      845|    Espresso|Caffe Mocha|Regular|\n",
      "|      319|    Espresso|Caffe Mocha|Regular|\n",
      "|      303|    Espresso|Caffe Mocha|Regular|\n",
      "|      815|    Espresso|Caffe Mocha|Regular|\n",
      "|      567|    Espresso|Caffe Mocha|Regular|\n",
      "|      314|    Espresso|Caffe Mocha|Regular|\n",
      "|      608|    Espresso|Caffe Mocha|Regular|\n",
      "|      515|    Espresso|Caffe Mocha|Regular|\n",
      "|      303|    Espresso|Caffe Mocha|Regular|\n",
      "|      224|    Espresso|Caffe Mocha|Regular|\n",
      "|      440|    Espresso|Caffe Mocha|Regular|\n",
      "|      970|    Espresso|Caffe Mocha|Regular|\n",
      "|      815|    Espresso|Caffe Mocha|Regular|\n",
      "|      740|    Espresso|Caffe Mocha|Regular|\n",
      "|      314|    Espresso|Caffe Mocha|Regular|\n",
      "|      715|    Espresso|Caffe Mocha|Regular|\n",
      "|      970|    Espresso|Caffe Mocha|Regular|\n",
      "|      312|    Espresso|Caffe Mocha|Regular|\n",
      "|      513|    Espresso|Caffe Mocha|Regular|\n",
      "|      573|    Espresso|Caffe Mocha|Regular|\n",
      "|      262|    Espresso|Caffe Mocha|Regular|\n",
      "|      303|    Espresso|Caffe Mocha|Regular|\n",
      "|      630|    Espresso|Caffe Mocha|Regular|\n",
      "|      234|    Espresso|Caffe Mocha|Regular|\n",
      "|      573|    Espresso|Caffe Mocha|Regular|\n",
      "|      715|    Espresso|Caffe Mocha|Regular|\n",
      "|      970|    Espresso|Caffe Mocha|Regular|\n",
      "+---------+------------+-----------+-------+\n",
      "only showing top 200 rows\n",
      "\n"
     ]
    }
   ],
   "source": [
    "product.orderBy(\"Product\").show(200)"
   ]
  },
  {
   "cell_type": "code",
   "execution_count": 33,
   "id": "433d7da4",
   "metadata": {},
   "outputs": [],
   "source": [
    "exp = data.agg({'Total_expenses': 'sum'}).withColumnRenamed('sum(Total Expenses)', 'Total_Expenses')"
   ]
  },
  {
   "cell_type": "code",
   "execution_count": 34,
   "id": "e90085b7",
   "metadata": {},
   "outputs": [
    {
     "name": "stdout",
     "output_type": "stream",
     "text": [
      "+-------------------+\n",
      "|sum(Total_expenses)|\n",
      "+-------------------+\n",
      "|              57174|\n",
      "+-------------------+\n",
      "\n"
     ]
    }
   ],
   "source": [
    "exp.show()"
   ]
  },
  {
   "cell_type": "code",
   "execution_count": 35,
   "id": "701d956f",
   "metadata": {},
   "outputs": [],
   "source": [
    "profit = data.agg({'Profit': 'sum'}).withColumnRenamed('sum(Profit)', 'Total_Profit')"
   ]
  },
  {
   "cell_type": "code",
   "execution_count": 36,
   "id": "235f6db8",
   "metadata": {},
   "outputs": [
    {
     "name": "stdout",
     "output_type": "stream",
     "text": [
      "+------------+\n",
      "|Total_Profit|\n",
      "+------------+\n",
      "|       64311|\n",
      "+------------+\n",
      "\n"
     ]
    }
   ],
   "source": [
    "profit.show()"
   ]
  },
  {
   "cell_type": "code",
   "execution_count": 37,
   "id": "f8195d5a",
   "metadata": {},
   "outputs": [],
   "source": [
    "avg = data.agg({'Sales':'average'}).withColumnRenamed('avg(Sales)', 'Avg_sales')"
   ]
  },
  {
   "cell_type": "code",
   "execution_count": 38,
   "id": "5152d341",
   "metadata": {},
   "outputs": [
    {
     "name": "stdout",
     "output_type": "stream",
     "text": [
      "+------------------+\n",
      "|         Avg_sales|\n",
      "+------------------+\n",
      "|191.04990583804144|\n",
      "+------------------+\n",
      "\n"
     ]
    }
   ],
   "source": [
    "avg.show()"
   ]
  },
  {
   "cell_type": "code",
   "execution_count": 45,
   "id": "7824c064",
   "metadata": {},
   "outputs": [
    {
     "name": "stdout",
     "output_type": "stream",
     "text": [
      "+-----------------+------------------+------------------+-------------------+\n",
      "|          Product|        avg(Sales)|       avg(Profit)|avg(Total_expenses)|\n",
      "+-----------------+------------------+------------------+-------------------+\n",
      "|   Decaf Espresso| 185.1764705882353| 69.00980392156863|  45.68627450980392|\n",
      "|        Earl Grey|229.80555555555554| 82.98611111111111| 58.611111111111114|\n",
      "|        Green Tea|118.33333333333333|1.2361111111111112|  46.30555555555556|\n",
      "|         Amaretto|141.27083333333334|28.166666666666668| 46.958333333333336|\n",
      "|            Lemon|             200.4|             63.45| 57.916666666666664|\n",
      "|      Caffe Latte|160.46296296296296|  50.2962962962963| 47.666666666666664|\n",
      "|Decaf Irish Cream|154.48958333333334|          33.34375|             50.375|\n",
      "|      Caffe Mocha|180.96666666666667| 39.05833333333333|               63.7|\n",
      "| Regular Espresso| 374.6666666666667|             191.0|  67.44444444444444|\n",
      "|        Colombian|256.34166666666664|107.76666666666667|  64.48333333333333|\n",
      "|        Chamomile|200.98958333333334| 72.97916666666667| 53.166666666666664|\n",
      "|             Mint|173.79166666666666|26.791666666666668| 49.958333333333336|\n",
      "|       Darjeeling|184.97916666666666| 72.66666666666667|              44.25|\n",
      "+-----------------+------------------+------------------+-------------------+\n",
      "\n"
     ]
    }
   ],
   "source": [
    "avg_product_sales = data.join(product, on='Product',how=\"inner\").select('Product','Sales','Profit','Total_expenses').groupBy('Product').avg().show()"
   ]
  },
  {
   "cell_type": "code",
   "execution_count": 44,
   "id": "b72b9393",
   "metadata": {},
   "outputs": [
    {
     "name": "stdout",
     "output_type": "stream",
     "text": [
      "root\n",
      " |-- Area Code: integer (nullable = true)\n",
      " |-- Cogs: integer (nullable = true)\n",
      " |-- DifferenceBetweenActualandTargetProfit: integer (nullable = true)\n",
      " |-- Date: string (nullable = true)\n",
      " |-- Inventory Margin: integer (nullable = true)\n",
      " |-- Margin: integer (nullable = true)\n",
      " |-- Market_size: string (nullable = true)\n",
      " |-- Market: string (nullable = true)\n",
      " |-- Marketing: integer (nullable = true)\n",
      " |-- Product_line: string (nullable = true)\n",
      " |-- Product_type: string (nullable = true)\n",
      " |-- Product: string (nullable = true)\n",
      " |-- Profit: integer (nullable = true)\n",
      " |-- Sales: integer (nullable = true)\n",
      " |-- State: string (nullable = true)\n",
      " |-- Target_cogs: integer (nullable = true)\n",
      " |-- Target_margin: integer (nullable = true)\n",
      " |-- Target_profit: integer (nullable = true)\n",
      " |-- Target_sales : integer (nullable = true)\n",
      " |-- Total_expenses: integer (nullable = true)\n",
      " |-- Type: string (nullable = true)\n",
      "\n"
     ]
    }
   ],
   "source": [
    "data.printSchema()"
   ]
  },
  {
   "cell_type": "code",
   "execution_count": 53,
   "id": "0e2582e5",
   "metadata": {},
   "outputs": [
    {
     "ename": "AnalysisException",
     "evalue": "[UNRESOLVED_COLUMN.WITH_SUGGESTION] A column or function parameter with name `Product_type` cannot be resolved. Did you mean one of the following? [`Profit`].;\n'Aggregate ['Product_type], ['Product_type, sum(Profit#29) AS sum(Profit)#1754L]\n+- Project [Profit#29]\n   +- Project [Product#28, Area Code#17, Cogs#18, DifferenceBetweenActualandTargetProfit#19, Date#20, Inventory Margin#21, Margin#22, Market_size#23, Market#24, Marketing#25, Product_line#26, Product_type#27, Profit#29, Sales#30, State#31, Target_cogs#32, Target_margin#33, Target_profit#34, Target_sales #35, Total_expenses#36, Type#37, Area Code#1705, Product_type#1715, Type#1725]\n      +- Join Inner, (Product#28 = Product#1716)\n         :- Relation [Area Code#17,Cogs#18,DifferenceBetweenActualandTargetProfit#19,Date#20,Inventory Margin#21,Margin#22,Market_size#23,Market#24,Marketing#25,Product_line#26,Product_type#27,Product#28,Profit#29,Sales#30,State#31,Target_cogs#32,Target_margin#33,Target_profit#34,Target_sales #35,Total_expenses#36,Type#37] csv\n         +- Project [Area Code#1705, Product_type#1715, Product#1716, Type#1725]\n            +- Relation [Area Code#1705,Cogs#1706,DifferenceBetweenActualandTargetProfit#1707,Date#1708,Inventory Margin#1709,Margin#1710,Market_size#1711,Market#1712,Marketing#1713,Product_line#1714,Product_type#1715,Product#1716,Profit#1717,Sales#1718,State#1719,Target_cogs#1720,Target_margin#1721,Target_profit#1722,Target_sales #1723,Total_expenses#1724,Type#1725] csv\n",
     "output_type": "error",
     "traceback": [
      "\u001b[1;31m---------------------------------------------------------------------------\u001b[0m",
      "\u001b[1;31mAnalysisException\u001b[0m                         Traceback (most recent call last)",
      "Cell \u001b[1;32mIn[53], line 1\u001b[0m\n\u001b[1;32m----> 1\u001b[0m product_sales \u001b[38;5;241m=\u001b[39m \u001b[43mdata\u001b[49m\u001b[38;5;241;43m.\u001b[39;49m\u001b[43mjoin\u001b[49m\u001b[43m(\u001b[49m\u001b[43mproduct\u001b[49m\u001b[43m,\u001b[49m\u001b[43m \u001b[49m\u001b[43mon\u001b[49m\u001b[38;5;241;43m=\u001b[39;49m\u001b[38;5;124;43m'\u001b[39;49m\u001b[38;5;124;43mProduct\u001b[39;49m\u001b[38;5;124;43m'\u001b[39;49m\u001b[43m,\u001b[49m\u001b[43mhow\u001b[49m\u001b[38;5;241;43m=\u001b[39;49m\u001b[38;5;124;43m\"\u001b[39;49m\u001b[38;5;124;43minner\u001b[39;49m\u001b[38;5;124;43m\"\u001b[39;49m\u001b[43m)\u001b[49m\u001b[38;5;241;43m.\u001b[39;49m\u001b[43mselect\u001b[49m\u001b[43m(\u001b[49m\u001b[43mdata\u001b[49m\u001b[43m[\u001b[49m\u001b[38;5;124;43m'\u001b[39;49m\u001b[38;5;124;43mProfit\u001b[39;49m\u001b[38;5;124;43m'\u001b[39;49m\u001b[43m]\u001b[49m\u001b[43m)\u001b[49m\u001b[38;5;241;43m.\u001b[39;49m\u001b[43mgroupBy\u001b[49m\u001b[43m(\u001b[49m\u001b[38;5;124;43m'\u001b[39;49m\u001b[38;5;124;43mProduct_type\u001b[39;49m\u001b[38;5;124;43m'\u001b[39;49m\u001b[43m)\u001b[49m\u001b[38;5;241;43m.\u001b[39;49m\u001b[43msum\u001b[49m\u001b[43m(\u001b[49m\u001b[43m)\u001b[49m\u001b[38;5;241m.\u001b[39mshow()\n",
      "File \u001b[1;32m~\\AppData\\Local\\Programs\\Python\\Python311\\Lib\\site-packages\\pyspark\\sql\\group.py:49\u001b[0m, in \u001b[0;36mdf_varargs_api.<locals>._api\u001b[1;34m(self, *cols)\u001b[0m\n\u001b[0;32m     47\u001b[0m \u001b[38;5;28;01mdef\u001b[39;00m \u001b[38;5;21m_api\u001b[39m(\u001b[38;5;28mself\u001b[39m: \u001b[38;5;124m\"\u001b[39m\u001b[38;5;124mGroupedData\u001b[39m\u001b[38;5;124m\"\u001b[39m, \u001b[38;5;241m*\u001b[39mcols: \u001b[38;5;28mstr\u001b[39m) \u001b[38;5;241m-\u001b[39m\u001b[38;5;241m>\u001b[39m DataFrame:\n\u001b[0;32m     48\u001b[0m     name \u001b[38;5;241m=\u001b[39m f\u001b[38;5;241m.\u001b[39m\u001b[38;5;18m__name__\u001b[39m\n\u001b[1;32m---> 49\u001b[0m     jdf \u001b[38;5;241m=\u001b[39m \u001b[38;5;28;43mgetattr\u001b[39;49m\u001b[43m(\u001b[49m\u001b[38;5;28;43mself\u001b[39;49m\u001b[38;5;241;43m.\u001b[39;49m\u001b[43m_jgd\u001b[49m\u001b[43m,\u001b[49m\u001b[43m \u001b[49m\u001b[43mname\u001b[49m\u001b[43m)\u001b[49m\u001b[43m(\u001b[49m\u001b[43m_to_seq\u001b[49m\u001b[43m(\u001b[49m\u001b[38;5;28;43mself\u001b[39;49m\u001b[38;5;241;43m.\u001b[39;49m\u001b[43msession\u001b[49m\u001b[38;5;241;43m.\u001b[39;49m\u001b[43m_sc\u001b[49m\u001b[43m,\u001b[49m\u001b[43m \u001b[49m\u001b[43mcols\u001b[49m\u001b[43m)\u001b[49m\u001b[43m)\u001b[49m\n\u001b[0;32m     50\u001b[0m     \u001b[38;5;28;01mreturn\u001b[39;00m DataFrame(jdf, \u001b[38;5;28mself\u001b[39m\u001b[38;5;241m.\u001b[39msession)\n",
      "File \u001b[1;32m~\\AppData\\Local\\Programs\\Python\\Python311\\Lib\\site-packages\\py4j\\java_gateway.py:1322\u001b[0m, in \u001b[0;36mJavaMember.__call__\u001b[1;34m(self, *args)\u001b[0m\n\u001b[0;32m   1316\u001b[0m command \u001b[38;5;241m=\u001b[39m proto\u001b[38;5;241m.\u001b[39mCALL_COMMAND_NAME \u001b[38;5;241m+\u001b[39m\\\n\u001b[0;32m   1317\u001b[0m     \u001b[38;5;28mself\u001b[39m\u001b[38;5;241m.\u001b[39mcommand_header \u001b[38;5;241m+\u001b[39m\\\n\u001b[0;32m   1318\u001b[0m     args_command \u001b[38;5;241m+\u001b[39m\\\n\u001b[0;32m   1319\u001b[0m     proto\u001b[38;5;241m.\u001b[39mEND_COMMAND_PART\n\u001b[0;32m   1321\u001b[0m answer \u001b[38;5;241m=\u001b[39m \u001b[38;5;28mself\u001b[39m\u001b[38;5;241m.\u001b[39mgateway_client\u001b[38;5;241m.\u001b[39msend_command(command)\n\u001b[1;32m-> 1322\u001b[0m return_value \u001b[38;5;241m=\u001b[39m \u001b[43mget_return_value\u001b[49m\u001b[43m(\u001b[49m\n\u001b[0;32m   1323\u001b[0m \u001b[43m    \u001b[49m\u001b[43manswer\u001b[49m\u001b[43m,\u001b[49m\u001b[43m \u001b[49m\u001b[38;5;28;43mself\u001b[39;49m\u001b[38;5;241;43m.\u001b[39;49m\u001b[43mgateway_client\u001b[49m\u001b[43m,\u001b[49m\u001b[43m \u001b[49m\u001b[38;5;28;43mself\u001b[39;49m\u001b[38;5;241;43m.\u001b[39;49m\u001b[43mtarget_id\u001b[49m\u001b[43m,\u001b[49m\u001b[43m \u001b[49m\u001b[38;5;28;43mself\u001b[39;49m\u001b[38;5;241;43m.\u001b[39;49m\u001b[43mname\u001b[49m\u001b[43m)\u001b[49m\n\u001b[0;32m   1325\u001b[0m \u001b[38;5;28;01mfor\u001b[39;00m temp_arg \u001b[38;5;129;01min\u001b[39;00m temp_args:\n\u001b[0;32m   1326\u001b[0m     \u001b[38;5;28;01mif\u001b[39;00m \u001b[38;5;28mhasattr\u001b[39m(temp_arg, \u001b[38;5;124m\"\u001b[39m\u001b[38;5;124m_detach\u001b[39m\u001b[38;5;124m\"\u001b[39m):\n",
      "File \u001b[1;32m~\\AppData\\Local\\Programs\\Python\\Python311\\Lib\\site-packages\\pyspark\\errors\\exceptions\\captured.py:175\u001b[0m, in \u001b[0;36mcapture_sql_exception.<locals>.deco\u001b[1;34m(*a, **kw)\u001b[0m\n\u001b[0;32m    171\u001b[0m converted \u001b[38;5;241m=\u001b[39m convert_exception(e\u001b[38;5;241m.\u001b[39mjava_exception)\n\u001b[0;32m    172\u001b[0m \u001b[38;5;28;01mif\u001b[39;00m \u001b[38;5;129;01mnot\u001b[39;00m \u001b[38;5;28misinstance\u001b[39m(converted, UnknownException):\n\u001b[0;32m    173\u001b[0m     \u001b[38;5;66;03m# Hide where the exception came from that shows a non-Pythonic\u001b[39;00m\n\u001b[0;32m    174\u001b[0m     \u001b[38;5;66;03m# JVM exception message.\u001b[39;00m\n\u001b[1;32m--> 175\u001b[0m     \u001b[38;5;28;01mraise\u001b[39;00m converted \u001b[38;5;28;01mfrom\u001b[39;00m \u001b[38;5;28;01mNone\u001b[39;00m\n\u001b[0;32m    176\u001b[0m \u001b[38;5;28;01melse\u001b[39;00m:\n\u001b[0;32m    177\u001b[0m     \u001b[38;5;28;01mraise\u001b[39;00m\n",
      "\u001b[1;31mAnalysisException\u001b[0m: [UNRESOLVED_COLUMN.WITH_SUGGESTION] A column or function parameter with name `Product_type` cannot be resolved. Did you mean one of the following? [`Profit`].;\n'Aggregate ['Product_type], ['Product_type, sum(Profit#29) AS sum(Profit)#1754L]\n+- Project [Profit#29]\n   +- Project [Product#28, Area Code#17, Cogs#18, DifferenceBetweenActualandTargetProfit#19, Date#20, Inventory Margin#21, Margin#22, Market_size#23, Market#24, Marketing#25, Product_line#26, Product_type#27, Profit#29, Sales#30, State#31, Target_cogs#32, Target_margin#33, Target_profit#34, Target_sales #35, Total_expenses#36, Type#37, Area Code#1705, Product_type#1715, Type#1725]\n      +- Join Inner, (Product#28 = Product#1716)\n         :- Relation [Area Code#17,Cogs#18,DifferenceBetweenActualandTargetProfit#19,Date#20,Inventory Margin#21,Margin#22,Market_size#23,Market#24,Marketing#25,Product_line#26,Product_type#27,Product#28,Profit#29,Sales#30,State#31,Target_cogs#32,Target_margin#33,Target_profit#34,Target_sales #35,Total_expenses#36,Type#37] csv\n         +- Project [Area Code#1705, Product_type#1715, Product#1716, Type#1725]\n            +- Relation [Area Code#1705,Cogs#1706,DifferenceBetweenActualandTargetProfit#1707,Date#1708,Inventory Margin#1709,Margin#1710,Market_size#1711,Market#1712,Marketing#1713,Product_line#1714,Product_type#1715,Product#1716,Profit#1717,Sales#1718,State#1719,Target_cogs#1720,Target_margin#1721,Target_profit#1722,Target_sales #1723,Total_expenses#1724,Type#1725] csv\n"
     ]
    }
   ],
   "source": [
    "product_sales = data.join(product, on='Product',how=\"inner\").select('Profit').groupBy('Product_type').sum().show()"
   ]
  },
  {
   "cell_type": "code",
   "execution_count": 54,
   "id": "b6d4b26b",
   "metadata": {},
   "outputs": [],
   "source": [
    "import pymysql"
   ]
  },
  {
   "cell_type": "code",
   "execution_count": 55,
   "id": "1ede23cc",
   "metadata": {},
   "outputs": [],
   "source": [
    "from sqlalchemy import create_engine"
   ]
  },
  {
   "cell_type": "code",
   "execution_count": null,
   "id": "9cad93f6",
   "metadata": {},
   "outputs": [],
   "source": [
    "connection = pymysql.connect(\n",
    "    host='localhost',\n",
    "    port=3306,\n",
    "    user='root',\n",
    "    password='Lokesh@112',\n",
    "    database='sales'\n",
    ")"
   ]
  },
  {
   "cell_type": "code",
   "execution_count": null,
   "id": "b93c0f05",
   "metadata": {},
   "outputs": [],
   "source": [
    "cursor = connection.cursor()"
   ]
  },
  {
   "cell_type": "code",
   "execution_count": null,
   "id": "20eea484",
   "metadata": {},
   "outputs": [],
   "source": [
    "market_df = market.toPandas()"
   ]
  },
  {
   "cell_type": "code",
   "execution_count": null,
   "id": "3afa8e32",
   "metadata": {},
   "outputs": [],
   "source": [
    "market_table_query = \"\"\"\n",
    "    CREATE TABLE Market (\n",
    "        Area_Code INT,\n",
    "        Market VARCHAR(30),\n",
    "        Market_Size VARCHAR(30),\n",
    "        State VARCHAR(30)\n",
    "    )\n",
    "\"\"\""
   ]
  },
  {
   "cell_type": "code",
   "execution_count": null,
   "id": "faef57eb",
   "metadata": {},
   "outputs": [],
   "source": [
    "cursor.execute(product_table_query)"
   ]
  },
  {
   "cell_type": "code",
   "execution_count": null,
   "id": "a3a6db4d",
   "metadata": {},
   "outputs": [],
   "source": [
    "insert_query = \"INSERT INTO Product (ProductID, Area_Code, Product_Type, Product, Type) VALUES (%s, %s, %s, %s, %s)\""
   ]
  },
  {
   "cell_type": "code",
   "execution_count": null,
   "id": "529fed84",
   "metadata": {},
   "outputs": [],
   "source": [
    "data = df.values.tolist()"
   ]
  },
  {
   "cell_type": "code",
   "execution_count": null,
   "id": "01891352",
   "metadata": {},
   "outputs": [],
   "source": [
    "cursor.executemany(insert_query, data)"
   ]
  },
  {
   "cell_type": "code",
   "execution_count": null,
   "id": "5556e0fa",
   "metadata": {},
   "outputs": [],
   "source": [
    "connection.commit()"
   ]
  },
  {
   "cell_type": "code",
   "execution_count": null,
   "id": "2d6c995d",
   "metadata": {},
   "outputs": [],
   "source": [
    "df = data.toPandas()"
   ]
  },
  {
   "cell_type": "code",
   "execution_count": null,
   "id": "6bb42784",
   "metadata": {},
   "outputs": [],
   "source": [
    "sales_table_query = \"\"\"\n",
    "    CREATE TABLE Sales (\n",
    "      ProductID INT,\n",
    "      `Date` DATE,\n",
    "      Area_Code INT,\n",
    "      Profit DOUBLE,\n",
    "      Margin DOUBLE,\n",
    "      Sales DOUBLE,\n",
    "      COGS DOUBLE,\n",
    "      TotalExpenses DOUBLE,\n",
    "      Marketing DOUBLE,\n",
    "      Inventory DOUBLE,\n",
    "      BudgetProfit DOUBLE,\n",
    "      BudgetCOGS DOUBLE,\n",
    "      BudgetMargin DOUBLE,\n",
    "      BudgetSales DOUBLE\n",
    ")\n",
    "\"\"\""
   ]
  },
  {
   "cell_type": "code",
   "execution_count": null,
   "id": "e773159b",
   "metadata": {},
   "outputs": [],
   "source": [
    "cursor.execute(sales_table_query)"
   ]
  },
  {
   "cell_type": "code",
   "execution_count": null,
   "id": "e4e01970",
   "metadata": {},
   "outputs": [],
   "source": [
    "insert_query = \"INSERT INTO Sales (ProductID, Date, Area_Code, Profit, Margin, Sales, COGS, TotalExpenses, Marketing, Inventory, BudgetProfit, BudgetCOGS, BudgetMargin, BudgetSales) VALUES (%s, %s, %s, %s, %s, %s, %s, %s, %s, %s, %s, %s, %s, %s)\""
   ]
  },
  {
   "cell_type": "code",
   "execution_count": null,
   "id": "a86be84f",
   "metadata": {},
   "outputs": [],
   "source": [
    "data = df.values.tolist()"
   ]
  },
  {
   "cell_type": "code",
   "execution_count": null,
   "id": "fadee278",
   "metadata": {},
   "outputs": [],
   "source": [
    "sales_table_query = \"\"\"\n",
    "    CREATE TABLE Sales (\n",
    "      ProductID INT,\n",
    "      `Date` DATE,\n",
    "      Area_Code INT,\n",
    "      Profit DOUBLE,\n",
    "      Margin DOUBLE,\n",
    "      Sales DOUBLE,\n",
    "      COGS DOUBLE,\n",
    "      TotalExpenses DOUBLE,\n",
    "      Marketing DOUBLE,\n",
    "      Inventory DOUBLE,\n",
    "      BudgetProfit DOUBLE,\n",
    "      BudgetCOGS DOUBLE,\n",
    "      BudgetMargin DOUBLE,\n",
    "      BudgetSales DOUBLE\n",
    ")\n",
    "\"\"\""
   ]
  },
  {
   "cell_type": "code",
   "execution_count": null,
   "id": "cf272d2c",
   "metadata": {},
   "outputs": [],
   "source": [
    "cursor.execute(sales_table_query)"
   ]
  },
  {
   "cell_type": "code",
   "execution_count": null,
   "id": "e51b2356",
   "metadata": {},
   "outputs": [],
   "source": [
    "insert_query = \"INSERT INTO Sales (ProductID, Date, Area_Code, Profit, Margin, Sales, COGS, TotalExpenses, Marketing, Inventory, BudgetProfit, BudgetCOGS, BudgetMargin, BudgetSales) VALUES (%s, %s, %s, %s, %s, %s, %s, %s, %s, %s, %s, %s, %s, %s)\""
   ]
  },
  {
   "cell_type": "code",
   "execution_count": null,
   "id": "24bd9e50",
   "metadata": {},
   "outputs": [],
   "source": [
    "data = df.values.tolist()"
   ]
  },
  {
   "cell_type": "code",
   "execution_count": null,
   "id": "ee9859b5",
   "metadata": {},
   "outputs": [],
   "source": [
    "cursor.executemany(insert_query, data)"
   ]
  },
  {
   "cell_type": "code",
   "execution_count": null,
   "id": "fe59887c",
   "metadata": {},
   "outputs": [],
   "source": [
    "connection.commit()"
   ]
  },
  {
   "cell_type": "code",
   "execution_count": null,
   "id": "21b93c2d",
   "metadata": {},
   "outputs": [],
   "source": [
    "df = calender.toPandas()"
   ]
  },
  {
   "cell_type": "code",
   "execution_count": null,
   "id": "7d3da14e",
   "metadata": {},
   "outputs": [],
   "source": [
    "Calender_table_query = \"\"\"\n",
    "    CREATE TABLE Calender (\n",
    "      Date TIMESTAMP,\n",
    "      Day VARCHAR(255),\n",
    "      Month VARCHAR(255),\n",
    "      Year INT\n",
    ")\n",
    "\"\"\""
   ]
  },
  {
   "cell_type": "code",
   "execution_count": null,
   "id": "d39caa6e",
   "metadata": {},
   "outputs": [],
   "source": [
    "cursor.execute(Calender_table_query)"
   ]
  },
  {
   "cell_type": "code",
   "execution_count": null,
   "id": "a19b4b67",
   "metadata": {},
   "outputs": [],
   "source": [
    "insert_query = \"INSERT INTO Calender (Date, Day, Month, Year) VALUES (%s, %s, %s, %s)\""
   ]
  },
  {
   "cell_type": "code",
   "execution_count": null,
   "id": "e5de5a9a",
   "metadata": {},
   "outputs": [],
   "source": [
    "data = df.values.tolist()"
   ]
  },
  {
   "cell_type": "code",
   "execution_count": null,
   "id": "d4bdde54",
   "metadata": {},
   "outputs": [],
   "source": [
    "cursor.executemany(insert_query, data)"
   ]
  },
  {
   "cell_type": "code",
   "execution_count": null,
   "id": "371aa50e",
   "metadata": {},
   "outputs": [],
   "source": [
    "connection.commit()"
   ]
  },
  {
   "cell_type": "code",
   "execution_count": null,
   "id": "820fb181",
   "metadata": {},
   "outputs": [],
   "source": [
    "cursor.close()"
   ]
  },
  {
   "cell_type": "code",
   "execution_count": null,
   "id": "5740c159",
   "metadata": {},
   "outputs": [],
   "source": [
    "connection.close()"
   ]
  },
  {
   "cell_type": "code",
   "execution_count": null,
   "id": "da593b49",
   "metadata": {},
   "outputs": [],
   "source": [
    "data.show()"
   ]
  }
 ],
 "metadata": {
  "kernelspec": {
   "display_name": "Python 3 (ipykernel)",
   "language": "python",
   "name": "python3"
  },
  "language_info": {
   "codemirror_mode": {
    "name": "ipython",
    "version": 3
   },
   "file_extension": ".py",
   "mimetype": "text/x-python",
   "name": "python",
   "nbconvert_exporter": "python",
   "pygments_lexer": "ipython3",
   "version": "3.11.2"
  }
 },
 "nbformat": 4,
 "nbformat_minor": 5
}
